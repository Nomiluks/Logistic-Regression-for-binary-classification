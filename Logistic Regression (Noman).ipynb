{
 "cells": [
  {
   "cell_type": "code",
   "execution_count": 1,
   "metadata": {
    "collapsed": false
   },
   "outputs": [],
   "source": [
    "from sklearn import datasets\n",
    "import matplotlib.pyplot as plt\n",
    "import seaborn as sns\n",
    "%matplotlib inline\n",
    "import numpy as np\n",
    "import pandas as pd\n",
    "from sklearn.metrics import accuracy_score\n",
    "import math"
   ]
  },
  {
   "cell_type": "code",
   "execution_count": 2,
   "metadata": {
    "collapsed": false
   },
   "outputs": [
    {
     "data": {
      "text/plain": [
       "((100, 2), (100,))"
      ]
     },
     "execution_count": 2,
     "metadata": {},
     "output_type": "execute_result"
    }
   ],
   "source": [
    "iris_data = datasets.load_iris()\n",
    "X = iris_data.data[:100,:2]\n",
    "y = iris_data.target[:100]\n",
    "X_full = iris_data.data[:100, :]\n",
    "X.shape, y.shape"
   ]
  },
  {
   "cell_type": "code",
   "execution_count": 3,
   "metadata": {
    "collapsed": false
   },
   "outputs": [
    {
     "data": {
      "image/png": "[encoded data removed]",
      "text/plain": [
       "<matplotlib.figure.Figure at 0x7f2cec21f510>"
      ]
     },
     "metadata": {},
     "output_type": "display_data"
    }
   ],
   "source": [
    "setosa     = plt.scatter(X[:50,0], X[:50, 1], c='b')\n",
    "versicolor = plt.scatter(X[50:,0], X[50:, 1], c='r')\n",
    "\n",
    "plt.xlabel('Sepal Width')\n",
    "plt.ylabel('Sepal Length')\n",
    "\n",
    "plt.legend((setosa,versicolor), ('setosa','versicolor'))\n",
    "sns.despine()"
   ]
  },
  {
   "cell_type": "code",
   "execution_count": 4,
   "metadata": {
    "collapsed": false
   },
   "outputs": [
    {
     "data": {
      "image/png": "[encoded data removed]",
      "text/plain": [
       "<matplotlib.figure.Figure at 0x7f2cb773b710>"
      ]
     },
     "metadata": {},
     "output_type": "display_data"
    }
   ],
   "source": [
    "x_   = np.linspace(-5,5, num=50)\n",
    "y_   = 1.0/(1 + np.exp(-x_))\n",
    "\n",
    "plt.plot(x_,y_)\n",
    "plt.axhline(.5)\n",
    "plt.axvline(.0)\n",
    "sns.set()"
   ]
  },
  {
   "cell_type": "markdown",
   "metadata": {},
   "source": [
    "# Binary Data set"
   ]
  },
  {
   "cell_type": "markdown",
   "metadata": {},
   "source": [
    "X = np.array([[0,0],[1,1],[1,0],[1,1],[0,0],[0,1],[1,0],[1,1],[0,1]]).reshape(9,2) \n",
    "y = np.array([0,1,1,1,0,1,1,1,1])"
   ]
  },
  {
   "cell_type": "code",
   "execution_count": 5,
   "metadata": {
    "collapsed": false
   },
   "outputs": [],
   "source": [
    "def logistic_fuinction(theta, X):\n",
    "     return 1.0/(1 + np.exp(- X.dot(theta) ))\n",
    "    \n",
    "def log_gradient(theta, X, y):\n",
    "    output = logistic_fuinction(theta, X)- np.squeeze(y)\n",
    "    return output.T.dot(X)\n",
    "\n",
    "def costFunction(theta, X,y, reg=0.001):\n",
    "    step_1 = np.squeeze(y) * np.log(logistic_fuinction(theta, X))\n",
    "    step_2 = (1-np.squeeze(y)) * np.log(logistic_fuinction(theta, X))\n",
    "    final  = -step_1-step_2\n",
    "    \n",
    "    regulaization = 0.5 * np.mean(np.sum(theta**2) * reg)\n",
    "    return np.mean(final)+regulaization\n",
    "\n",
    "def gradient_descent(theta, X,y, lr = 0.001, convergence = 0.0001):\n",
    "    X = (X - np.mean(X, axis=0))/np.std(X, axis=0) \n",
    "    cost = costFunction(theta, X, y)\n",
    "    cost_itr = []\n",
    "    cost_itr.append([0, cost])\n",
    "    change_cost = 1\n",
    "    i = 0\n",
    "    \n",
    "    while(change_cost > convergence):\n",
    "        old_cost = cost\n",
    "        theta = theta - lr*(log_gradient(theta, X, y))\n",
    "        cost  = costFunction(theta, X, y)\n",
    "        cost_itr.append([i, cost])\n",
    "        change_cost = old_cost-cost\n",
    "        i = i+1\n",
    "    return theta, np.array(cost_itr)\n",
    "\n",
    "def perdiction(theta, X, hard=True):\n",
    "    #normalize\n",
    "    X = (X - np.mean(X, axis=0)) / np.std(X, axis=0)\n",
    "    pred_prob = logistic_fuinction(theta, X)\n",
    "    pred_value = np.where(pred_prob >= .5, 1, 0)\n",
    "    print \n",
    "    #if hard:\n",
    "    #    return pred_value\n",
    "    return pred_value"
   ]
  },
  {
   "cell_type": "code",
   "execution_count": 6,
   "metadata": {
    "collapsed": false
   },
   "outputs": [
    {
     "name": "stdout",
     "output_type": "stream",
     "text": [
      "\n"
     ]
    }
   ],
   "source": [
    "theta_dim = X.shape[1]\n",
    "theta = np.random.normal(0, 0.01, theta_dim)\n",
    "fitted_values, cost = gradient_descent(theta, X,y)\n",
    "output = perdiction(fitted_values, X, y)"
   ]
  },
  {
   "cell_type": "code",
   "execution_count": 7,
   "metadata": {
    "collapsed": false
   },
   "outputs": [
    {
     "data": {
      "text/plain": [
       "98.0"
      ]
     },
     "execution_count": 7,
     "metadata": {},
     "output_type": "execute_result"
    }
   ],
   "source": [
    "np.sum(output == y)*1.0/ len(X) * 100"
   ]
  },
  {
   "cell_type": "code",
   "execution_count": null,
   "metadata": {
    "collapsed": true
   },
   "outputs": [],
   "source": []
  }
 ],
 "metadata": {
  "kernelspec": {
   "display_name": "Python 2",
   "language": "python",
   "name": "python2"
  },
  "language_info": {
   "codemirror_mode": {
    "name": "ipython",
    "version": 2
   },
   "file_extension": ".py",
   "mimetype": "text/x-python",
   "name": "python",
   "nbconvert_exporter": "python",
   "pygments_lexer": "ipython2",
   "version": "2.7.13"
  }
 },
 "nbformat": 4,
 "nbformat_minor": 2
}
